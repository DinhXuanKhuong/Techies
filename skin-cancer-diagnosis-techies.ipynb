{
 "cells": [
  {
   "cell_type": "code",
   "execution_count": 1,
   "id": "19451e86",
   "metadata": {
    "_cell_guid": "b1076dfc-b9ad-4769-8c92-a6c4dae69d19",
    "_uuid": "8f2839f25d086af736a60e9eeb907d3b93b6e0e5",
    "execution": {
     "iopub.execute_input": "2025-09-04T03:06:17.196629Z",
     "iopub.status.busy": "2025-09-04T03:06:17.196319Z",
     "iopub.status.idle": "2025-09-04T03:06:22.291861Z",
     "shell.execute_reply": "2025-09-04T03:06:22.290968Z"
    },
    "papermill": {
     "duration": 5.102073,
     "end_time": "2025-09-04T03:06:22.293272",
     "exception": false,
     "start_time": "2025-09-04T03:06:17.191199",
     "status": "completed"
    },
    "tags": []
   },
   "outputs": [],
   "source": [
    "from IPython.display import clear_output\n",
    "\n",
    "!pip install -q tensorflow==2.4.1\n",
    "\n",
    "clear_output()"
   ]
  },
  {
   "cell_type": "code",
   "execution_count": 2,
   "id": "53d1c53b",
   "metadata": {
    "execution": {
     "iopub.execute_input": "2025-09-04T03:06:22.302326Z",
     "iopub.status.busy": "2025-09-04T03:06:22.301661Z",
     "iopub.status.idle": "2025-09-04T03:06:47.463860Z",
     "shell.execute_reply": "2025-09-04T03:06:47.463252Z"
    },
    "papermill": {
     "duration": 25.168156,
     "end_time": "2025-09-04T03:06:47.465246",
     "exception": false,
     "start_time": "2025-09-04T03:06:22.297090",
     "status": "completed"
    },
    "tags": []
   },
   "outputs": [
    {
     "name": "stderr",
     "output_type": "stream",
     "text": [
      "2025-09-04 03:06:30.780471: E external/local_xla/xla/stream_executor/cuda/cuda_fft.cc:477] Unable to register cuFFT factory: Attempting to register factory for plugin cuFFT when one has already been registered\n",
      "WARNING: All log messages before absl::InitializeLog() is called are written to STDERR\n",
      "E0000 00:00:1756955191.158536      19 cuda_dnn.cc:8310] Unable to register cuDNN factory: Attempting to register factory for plugin cuDNN when one has already been registered\n",
      "E0000 00:00:1756955191.265994      19 cuda_blas.cc:1418] Unable to register cuBLAS factory: Attempting to register factory for plugin cuBLAS when one has already been registered\n"
     ]
    }
   ],
   "source": [
    "import os\n",
    "import shutil\n",
    "import random\n",
    "import pandas as pd\n",
    "from pathlib import Path\n",
    "from sklearn.model_selection import train_test_split\n",
    "import tensorflow as tf\n",
    "from tensorflow.keras import layers\n",
    "from tqdm import tqdm\n",
    "import numpy as np\n",
    "import matplotlib.pyplot as plt\n",
    "import seaborn as sns\n",
    "import math\n",
    "from sklearn.metrics import f1_score, precision_score, recall_score, confusion_matrix\n",
    "from collections import Counter\n",
    "from tensorflow import keras\n"
   ]
  },
  {
   "cell_type": "code",
   "execution_count": 3,
   "id": "897eafad",
   "metadata": {
    "execution": {
     "iopub.execute_input": "2025-09-04T03:06:47.473205Z",
     "iopub.status.busy": "2025-09-04T03:06:47.472483Z",
     "iopub.status.idle": "2025-09-04T03:06:49.150099Z",
     "shell.execute_reply": "2025-09-04T03:06:49.149310Z"
    },
    "papermill": {
     "duration": 1.682621,
     "end_time": "2025-09-04T03:06:49.151228",
     "exception": false,
     "start_time": "2025-09-04T03:06:47.468607",
     "status": "completed"
    },
    "tags": []
   },
   "outputs": [],
   "source": [
    "physical_devices = tf.config.list_physical_devices(\"GPU\")"
   ]
  },
  {
   "cell_type": "code",
   "execution_count": 4,
   "id": "2817a457",
   "metadata": {
    "execution": {
     "iopub.execute_input": "2025-09-04T03:06:49.158150Z",
     "iopub.status.busy": "2025-09-04T03:06:49.157925Z",
     "iopub.status.idle": "2025-09-04T03:06:49.161443Z",
     "shell.execute_reply": "2025-09-04T03:06:49.160954Z"
    },
    "papermill": {
     "duration": 0.008061,
     "end_time": "2025-09-04T03:06:49.162439",
     "exception": false,
     "start_time": "2025-09-04T03:06:49.154378",
     "status": "completed"
    },
    "tags": []
   },
   "outputs": [],
   "source": [
    "random.seed(42)\n",
    "directory = '../input/isic-2019/ISIC_2019_Training_Input/ISIC_2019_Training_Input'\n",
    "images_path = Path('../input/isic-2019/ISIC_2019_Training_Input/ISIC_2019_Training_Input/')\n",
    "path_ground_truth_data = '../input/isic-2019/ISIC_2019_Training_GroundTruth.csv'"
   ]
  },
  {
   "cell_type": "code",
   "execution_count": 5,
   "id": "ce46eb61",
   "metadata": {
    "execution": {
     "iopub.execute_input": "2025-09-04T03:06:49.168692Z",
     "iopub.status.busy": "2025-09-04T03:06:49.168486Z",
     "iopub.status.idle": "2025-09-04T03:06:49.299869Z",
     "shell.execute_reply": "2025-09-04T03:06:49.299040Z"
    },
    "papermill": {
     "duration": 0.136011,
     "end_time": "2025-09-04T03:06:49.301212",
     "exception": false,
     "start_time": "2025-09-04T03:06:49.165201",
     "status": "completed"
    },
    "tags": []
   },
   "outputs": [
    {
     "data": {
      "text/html": [
       "<div>\n",
       "<style scoped>\n",
       "    .dataframe tbody tr th:only-of-type {\n",
       "        vertical-align: middle;\n",
       "    }\n",
       "\n",
       "    .dataframe tbody tr th {\n",
       "        vertical-align: top;\n",
       "    }\n",
       "\n",
       "    .dataframe thead th {\n",
       "        text-align: right;\n",
       "    }\n",
       "</style>\n",
       "<table border=\"1\" class=\"dataframe\">\n",
       "  <thead>\n",
       "    <tr style=\"text-align: right;\">\n",
       "      <th></th>\n",
       "      <th>image</th>\n",
       "      <th>MEL</th>\n",
       "      <th>NV</th>\n",
       "      <th>BCC</th>\n",
       "      <th>AK</th>\n",
       "      <th>BKL</th>\n",
       "      <th>DF</th>\n",
       "      <th>VASC</th>\n",
       "      <th>SCC</th>\n",
       "      <th>UNK</th>\n",
       "    </tr>\n",
       "  </thead>\n",
       "  <tbody>\n",
       "    <tr>\n",
       "      <th>0</th>\n",
       "      <td>ISIC_0000000</td>\n",
       "      <td>0.0</td>\n",
       "      <td>1.0</td>\n",
       "      <td>0.0</td>\n",
       "      <td>0.0</td>\n",
       "      <td>0.0</td>\n",
       "      <td>0.0</td>\n",
       "      <td>0.0</td>\n",
       "      <td>0.0</td>\n",
       "      <td>0.0</td>\n",
       "    </tr>\n",
       "    <tr>\n",
       "      <th>1</th>\n",
       "      <td>ISIC_0000001</td>\n",
       "      <td>0.0</td>\n",
       "      <td>1.0</td>\n",
       "      <td>0.0</td>\n",
       "      <td>0.0</td>\n",
       "      <td>0.0</td>\n",
       "      <td>0.0</td>\n",
       "      <td>0.0</td>\n",
       "      <td>0.0</td>\n",
       "      <td>0.0</td>\n",
       "    </tr>\n",
       "    <tr>\n",
       "      <th>2</th>\n",
       "      <td>ISIC_0000002</td>\n",
       "      <td>1.0</td>\n",
       "      <td>0.0</td>\n",
       "      <td>0.0</td>\n",
       "      <td>0.0</td>\n",
       "      <td>0.0</td>\n",
       "      <td>0.0</td>\n",
       "      <td>0.0</td>\n",
       "      <td>0.0</td>\n",
       "      <td>0.0</td>\n",
       "    </tr>\n",
       "    <tr>\n",
       "      <th>3</th>\n",
       "      <td>ISIC_0000003</td>\n",
       "      <td>0.0</td>\n",
       "      <td>1.0</td>\n",
       "      <td>0.0</td>\n",
       "      <td>0.0</td>\n",
       "      <td>0.0</td>\n",
       "      <td>0.0</td>\n",
       "      <td>0.0</td>\n",
       "      <td>0.0</td>\n",
       "      <td>0.0</td>\n",
       "    </tr>\n",
       "    <tr>\n",
       "      <th>4</th>\n",
       "      <td>ISIC_0000004</td>\n",
       "      <td>1.0</td>\n",
       "      <td>0.0</td>\n",
       "      <td>0.0</td>\n",
       "      <td>0.0</td>\n",
       "      <td>0.0</td>\n",
       "      <td>0.0</td>\n",
       "      <td>0.0</td>\n",
       "      <td>0.0</td>\n",
       "      <td>0.0</td>\n",
       "    </tr>\n",
       "    <tr>\n",
       "      <th>...</th>\n",
       "      <td>...</td>\n",
       "      <td>...</td>\n",
       "      <td>...</td>\n",
       "      <td>...</td>\n",
       "      <td>...</td>\n",
       "      <td>...</td>\n",
       "      <td>...</td>\n",
       "      <td>...</td>\n",
       "      <td>...</td>\n",
       "      <td>...</td>\n",
       "    </tr>\n",
       "    <tr>\n",
       "      <th>25326</th>\n",
       "      <td>ISIC_0073247</td>\n",
       "      <td>0.0</td>\n",
       "      <td>0.0</td>\n",
       "      <td>1.0</td>\n",
       "      <td>0.0</td>\n",
       "      <td>0.0</td>\n",
       "      <td>0.0</td>\n",
       "      <td>0.0</td>\n",
       "      <td>0.0</td>\n",
       "      <td>0.0</td>\n",
       "    </tr>\n",
       "    <tr>\n",
       "      <th>25327</th>\n",
       "      <td>ISIC_0073248</td>\n",
       "      <td>0.0</td>\n",
       "      <td>0.0</td>\n",
       "      <td>0.0</td>\n",
       "      <td>0.0</td>\n",
       "      <td>1.0</td>\n",
       "      <td>0.0</td>\n",
       "      <td>0.0</td>\n",
       "      <td>0.0</td>\n",
       "      <td>0.0</td>\n",
       "    </tr>\n",
       "    <tr>\n",
       "      <th>25328</th>\n",
       "      <td>ISIC_0073249</td>\n",
       "      <td>1.0</td>\n",
       "      <td>0.0</td>\n",
       "      <td>0.0</td>\n",
       "      <td>0.0</td>\n",
       "      <td>0.0</td>\n",
       "      <td>0.0</td>\n",
       "      <td>0.0</td>\n",
       "      <td>0.0</td>\n",
       "      <td>0.0</td>\n",
       "    </tr>\n",
       "    <tr>\n",
       "      <th>25329</th>\n",
       "      <td>ISIC_0073251</td>\n",
       "      <td>0.0</td>\n",
       "      <td>1.0</td>\n",
       "      <td>0.0</td>\n",
       "      <td>0.0</td>\n",
       "      <td>0.0</td>\n",
       "      <td>0.0</td>\n",
       "      <td>0.0</td>\n",
       "      <td>0.0</td>\n",
       "      <td>0.0</td>\n",
       "    </tr>\n",
       "    <tr>\n",
       "      <th>25330</th>\n",
       "      <td>ISIC_0073254</td>\n",
       "      <td>0.0</td>\n",
       "      <td>0.0</td>\n",
       "      <td>0.0</td>\n",
       "      <td>0.0</td>\n",
       "      <td>1.0</td>\n",
       "      <td>0.0</td>\n",
       "      <td>0.0</td>\n",
       "      <td>0.0</td>\n",
       "      <td>0.0</td>\n",
       "    </tr>\n",
       "  </tbody>\n",
       "</table>\n",
       "<p>25331 rows × 10 columns</p>\n",
       "</div>"
      ],
      "text/plain": [
       "              image  MEL   NV  BCC   AK  BKL   DF  VASC  SCC  UNK\n",
       "0      ISIC_0000000  0.0  1.0  0.0  0.0  0.0  0.0   0.0  0.0  0.0\n",
       "1      ISIC_0000001  0.0  1.0  0.0  0.0  0.0  0.0   0.0  0.0  0.0\n",
       "2      ISIC_0000002  1.0  0.0  0.0  0.0  0.0  0.0   0.0  0.0  0.0\n",
       "3      ISIC_0000003  0.0  1.0  0.0  0.0  0.0  0.0   0.0  0.0  0.0\n",
       "4      ISIC_0000004  1.0  0.0  0.0  0.0  0.0  0.0   0.0  0.0  0.0\n",
       "...             ...  ...  ...  ...  ...  ...  ...   ...  ...  ...\n",
       "25326  ISIC_0073247  0.0  0.0  1.0  0.0  0.0  0.0   0.0  0.0  0.0\n",
       "25327  ISIC_0073248  0.0  0.0  0.0  0.0  1.0  0.0   0.0  0.0  0.0\n",
       "25328  ISIC_0073249  1.0  0.0  0.0  0.0  0.0  0.0   0.0  0.0  0.0\n",
       "25329  ISIC_0073251  0.0  1.0  0.0  0.0  0.0  0.0   0.0  0.0  0.0\n",
       "25330  ISIC_0073254  0.0  0.0  0.0  0.0  1.0  0.0   0.0  0.0  0.0\n",
       "\n",
       "[25331 rows x 10 columns]"
      ]
     },
     "execution_count": 5,
     "metadata": {},
     "output_type": "execute_result"
    }
   ],
   "source": [
    "ground_truth_labels = pd.read_csv(path_ground_truth_data)\n",
    "ground_truth_labels"
   ]
  },
  {
   "cell_type": "code",
   "execution_count": 6,
   "id": "096548d6",
   "metadata": {
    "execution": {
     "iopub.execute_input": "2025-09-04T03:06:49.308008Z",
     "iopub.status.busy": "2025-09-04T03:06:49.307795Z",
     "iopub.status.idle": "2025-09-04T03:06:49.347621Z",
     "shell.execute_reply": "2025-09-04T03:06:49.346694Z"
    },
    "papermill": {
     "duration": 0.044687,
     "end_time": "2025-09-04T03:06:49.349004",
     "exception": false,
     "start_time": "2025-09-04T03:06:49.304317",
     "status": "completed"
    },
    "tags": []
   },
   "outputs": [
    {
     "data": {
      "text/html": [
       "<div>\n",
       "<style scoped>\n",
       "    .dataframe tbody tr th:only-of-type {\n",
       "        vertical-align: middle;\n",
       "    }\n",
       "\n",
       "    .dataframe tbody tr th {\n",
       "        vertical-align: top;\n",
       "    }\n",
       "\n",
       "    .dataframe thead th {\n",
       "        text-align: right;\n",
       "    }\n",
       "</style>\n",
       "<table border=\"1\" class=\"dataframe\">\n",
       "  <thead>\n",
       "    <tr style=\"text-align: right;\">\n",
       "      <th></th>\n",
       "      <th>MEL</th>\n",
       "      <th>NV</th>\n",
       "      <th>BCC</th>\n",
       "      <th>AK</th>\n",
       "      <th>BKL</th>\n",
       "      <th>DF</th>\n",
       "      <th>VASC</th>\n",
       "      <th>SCC</th>\n",
       "      <th>UNK</th>\n",
       "    </tr>\n",
       "  </thead>\n",
       "  <tbody>\n",
       "    <tr>\n",
       "      <th>count</th>\n",
       "      <td>25331.000000</td>\n",
       "      <td>25331.000000</td>\n",
       "      <td>25331.000000</td>\n",
       "      <td>25331.000000</td>\n",
       "      <td>25331.000000</td>\n",
       "      <td>25331.000000</td>\n",
       "      <td>25331.000000</td>\n",
       "      <td>25331.000000</td>\n",
       "      <td>25331.0</td>\n",
       "    </tr>\n",
       "    <tr>\n",
       "      <th>mean</th>\n",
       "      <td>0.178516</td>\n",
       "      <td>0.508270</td>\n",
       "      <td>0.131183</td>\n",
       "      <td>0.034227</td>\n",
       "      <td>0.103588</td>\n",
       "      <td>0.009435</td>\n",
       "      <td>0.009988</td>\n",
       "      <td>0.024792</td>\n",
       "      <td>0.0</td>\n",
       "    </tr>\n",
       "    <tr>\n",
       "      <th>std</th>\n",
       "      <td>0.382954</td>\n",
       "      <td>0.499941</td>\n",
       "      <td>0.337607</td>\n",
       "      <td>0.181815</td>\n",
       "      <td>0.304732</td>\n",
       "      <td>0.096677</td>\n",
       "      <td>0.099440</td>\n",
       "      <td>0.155493</td>\n",
       "      <td>0.0</td>\n",
       "    </tr>\n",
       "    <tr>\n",
       "      <th>min</th>\n",
       "      <td>0.000000</td>\n",
       "      <td>0.000000</td>\n",
       "      <td>0.000000</td>\n",
       "      <td>0.000000</td>\n",
       "      <td>0.000000</td>\n",
       "      <td>0.000000</td>\n",
       "      <td>0.000000</td>\n",
       "      <td>0.000000</td>\n",
       "      <td>0.0</td>\n",
       "    </tr>\n",
       "    <tr>\n",
       "      <th>25%</th>\n",
       "      <td>0.000000</td>\n",
       "      <td>0.000000</td>\n",
       "      <td>0.000000</td>\n",
       "      <td>0.000000</td>\n",
       "      <td>0.000000</td>\n",
       "      <td>0.000000</td>\n",
       "      <td>0.000000</td>\n",
       "      <td>0.000000</td>\n",
       "      <td>0.0</td>\n",
       "    </tr>\n",
       "    <tr>\n",
       "      <th>50%</th>\n",
       "      <td>0.000000</td>\n",
       "      <td>1.000000</td>\n",
       "      <td>0.000000</td>\n",
       "      <td>0.000000</td>\n",
       "      <td>0.000000</td>\n",
       "      <td>0.000000</td>\n",
       "      <td>0.000000</td>\n",
       "      <td>0.000000</td>\n",
       "      <td>0.0</td>\n",
       "    </tr>\n",
       "    <tr>\n",
       "      <th>75%</th>\n",
       "      <td>0.000000</td>\n",
       "      <td>1.000000</td>\n",
       "      <td>0.000000</td>\n",
       "      <td>0.000000</td>\n",
       "      <td>0.000000</td>\n",
       "      <td>0.000000</td>\n",
       "      <td>0.000000</td>\n",
       "      <td>0.000000</td>\n",
       "      <td>0.0</td>\n",
       "    </tr>\n",
       "    <tr>\n",
       "      <th>max</th>\n",
       "      <td>1.000000</td>\n",
       "      <td>1.000000</td>\n",
       "      <td>1.000000</td>\n",
       "      <td>1.000000</td>\n",
       "      <td>1.000000</td>\n",
       "      <td>1.000000</td>\n",
       "      <td>1.000000</td>\n",
       "      <td>1.000000</td>\n",
       "      <td>0.0</td>\n",
       "    </tr>\n",
       "  </tbody>\n",
       "</table>\n",
       "</div>"
      ],
      "text/plain": [
       "                MEL            NV           BCC            AK           BKL  \\\n",
       "count  25331.000000  25331.000000  25331.000000  25331.000000  25331.000000   \n",
       "mean       0.178516      0.508270      0.131183      0.034227      0.103588   \n",
       "std        0.382954      0.499941      0.337607      0.181815      0.304732   \n",
       "min        0.000000      0.000000      0.000000      0.000000      0.000000   \n",
       "25%        0.000000      0.000000      0.000000      0.000000      0.000000   \n",
       "50%        0.000000      1.000000      0.000000      0.000000      0.000000   \n",
       "75%        0.000000      1.000000      0.000000      0.000000      0.000000   \n",
       "max        1.000000      1.000000      1.000000      1.000000      1.000000   \n",
       "\n",
       "                 DF          VASC           SCC      UNK  \n",
       "count  25331.000000  25331.000000  25331.000000  25331.0  \n",
       "mean       0.009435      0.009988      0.024792      0.0  \n",
       "std        0.096677      0.099440      0.155493      0.0  \n",
       "min        0.000000      0.000000      0.000000      0.0  \n",
       "25%        0.000000      0.000000      0.000000      0.0  \n",
       "50%        0.000000      0.000000      0.000000      0.0  \n",
       "75%        0.000000      0.000000      0.000000      0.0  \n",
       "max        1.000000      1.000000      1.000000      0.0  "
      ]
     },
     "execution_count": 6,
     "metadata": {},
     "output_type": "execute_result"
    }
   ],
   "source": [
    "ground_truth_labels.describe()"
   ]
  },
  {
   "cell_type": "code",
   "execution_count": 7,
   "id": "99de7244",
   "metadata": {
    "execution": {
     "iopub.execute_input": "2025-09-04T03:06:49.357676Z",
     "iopub.status.busy": "2025-09-04T03:06:49.357423Z",
     "iopub.status.idle": "2025-09-04T03:06:49.361701Z",
     "shell.execute_reply": "2025-09-04T03:06:49.361128Z"
    },
    "papermill": {
     "duration": 0.00982,
     "end_time": "2025-09-04T03:06:49.362849",
     "exception": false,
     "start_time": "2025-09-04T03:06:49.353029",
     "status": "completed"
    },
    "tags": []
   },
   "outputs": [
    {
     "name": "stdout",
     "output_type": "stream",
     "text": [
      "['MEL' 'NV' 'BCC' 'AK' 'BKL' 'DF' 'VASC' 'SCC']\n"
     ]
    }
   ],
   "source": [
    "CLASSES = ground_truth_labels.columns[1:-1].values\n",
    "print(CLASSES)"
   ]
  },
  {
   "cell_type": "code",
   "execution_count": 8,
   "id": "681d8083",
   "metadata": {
    "execution": {
     "iopub.execute_input": "2025-09-04T03:06:49.370134Z",
     "iopub.status.busy": "2025-09-04T03:06:49.369898Z",
     "iopub.status.idle": "2025-09-04T03:10:06.382510Z",
     "shell.execute_reply": "2025-09-04T03:10:06.381717Z"
    },
    "papermill": {
     "duration": 197.017747,
     "end_time": "2025-09-04T03:10:06.383896",
     "exception": false,
     "start_time": "2025-09-04T03:06:49.366149",
     "status": "completed"
    },
    "tags": []
   },
   "outputs": [
    {
     "name": "stderr",
     "output_type": "stream",
     "text": [
      "100%|██████████| 25331/25331 [01:05<00:00, 385.52it/s]\n"
     ]
    }
   ],
   "source": [
    "images = [path.as_posix() for path in list(images_path.rglob(\"*jpg\"))]\n",
    "labels = list()\n",
    "for path in tqdm(images):\n",
    "    name = path.split('/')[-1].split('.')[0]\n",
    "    label = ground_truth_labels[ground_truth_labels.image == name].iloc[:,1:].values.argmax()\n",
    "    labels.append(label)\n",
    "classes = len(np.unique(labels))\n",
    "assert len(images)==len(labels), 'Not equal number images and labels'"
   ]
  },
  {
   "cell_type": "code",
   "execution_count": 9,
   "id": "70c2eb3a",
   "metadata": {
    "execution": {
     "iopub.execute_input": "2025-09-04T03:10:06.443196Z",
     "iopub.status.busy": "2025-09-04T03:10:06.442945Z",
     "iopub.status.idle": "2025-09-04T03:10:06.447900Z",
     "shell.execute_reply": "2025-09-04T03:10:06.447191Z"
    },
    "papermill": {
     "duration": 0.036151,
     "end_time": "2025-09-04T03:10:06.449007",
     "exception": false,
     "start_time": "2025-09-04T03:10:06.412856",
     "status": "completed"
    },
    "tags": []
   },
   "outputs": [
    {
     "data": {
      "text/plain": [
       "25331"
      ]
     },
     "execution_count": 9,
     "metadata": {},
     "output_type": "execute_result"
    }
   ],
   "source": [
    "len(images)"
   ]
  },
  {
   "cell_type": "code",
   "execution_count": 10,
   "id": "0a904100",
   "metadata": {
    "execution": {
     "iopub.execute_input": "2025-09-04T03:10:06.507931Z",
     "iopub.status.busy": "2025-09-04T03:10:06.507609Z",
     "iopub.status.idle": "2025-09-04T03:10:06.513039Z",
     "shell.execute_reply": "2025-09-04T03:10:06.512271Z"
    },
    "papermill": {
     "duration": 0.036878,
     "end_time": "2025-09-04T03:10:06.514328",
     "exception": false,
     "start_time": "2025-09-04T03:10:06.477450",
     "status": "completed"
    },
    "tags": []
   },
   "outputs": [],
   "source": [
    "def plot_label_distribution(images, labels):\n",
    "    # Count the frequency of each label\n",
    "    label_counts = Counter(labels)\n",
    "    \n",
    "    # Prepare data for plotting\n",
    "    unique_labels = sorted(label_counts.keys())\n",
    "    counts = [label_counts[label] for label in unique_labels]\n",
    "    \n",
    "    # Create bar chart\n",
    "    plt.figure(figsize=(10, 6))\n",
    "    plt.bar(unique_labels, counts, color=['#1f77b4', '#ff7f0e', '#2ca02c', '#d62728', '#9467bd', '#8c564b', '#e377c2', '#7f7f7f', '#bcbd22', '#17becf'][:len(unique_labels)])\n",
    "    plt.xlabel('Labels')\n",
    "    plt.ylabel('Count')\n",
    "    plt.title('Distribution of Labels')\n",
    "    plt.xticks(unique_labels)\n",
    "    plt.grid(axis='y', linestyle='--', alpha=0.7)\n",
    "    plt.show()"
   ]
  },
  {
   "cell_type": "code",
   "execution_count": 11,
   "id": "f9f5cb60",
   "metadata": {
    "execution": {
     "iopub.execute_input": "2025-09-04T03:10:06.629229Z",
     "iopub.status.busy": "2025-09-04T03:10:06.628427Z",
     "iopub.status.idle": "2025-09-04T03:10:06.980220Z",
     "shell.execute_reply": "2025-09-04T03:10:06.979295Z"
    },
    "papermill": {
     "duration": 0.437239,
     "end_time": "2025-09-04T03:10:06.981666",
     "exception": false,
     "start_time": "2025-09-04T03:10:06.544427",
     "status": "completed"
    },
    "tags": []
   },
   "outputs": [
    {
     "data": {
      "image/png": "[encoded data removed]",
      "text/plain": [
       "<Figure size 1000x600 with 1 Axes>"
      ]
     },
     "metadata": {},
     "output_type": "display_data"
    }
   ],
   "source": [
    "plot_label_distribution(images, labels)"
   ]
  },
  {
   "cell_type": "code",
   "execution_count": 12,
   "id": "526389bd",
   "metadata": {
    "execution": {
     "iopub.execute_input": "2025-09-04T03:10:07.044076Z",
     "iopub.status.busy": "2025-09-04T03:10:07.043718Z",
     "iopub.status.idle": "2025-09-04T03:10:07.420157Z",
     "shell.execute_reply": "2025-09-04T03:10:07.419309Z"
    },
    "papermill": {
     "duration": 0.409129,
     "end_time": "2025-09-04T03:10:07.421558",
     "exception": false,
     "start_time": "2025-09-04T03:10:07.012429",
     "status": "completed"
    },
    "tags": []
   },
   "outputs": [
    {
     "name": "stdout",
     "output_type": "stream",
     "text": [
      "25331 25331\n"
     ]
    },
    {
     "data": {
      "image/png": "[encoded data removed]",
      "text/plain": [
       "<Figure size 640x480 with 1 Axes>"
      ]
     },
     "metadata": {},
     "output_type": "display_data"
    }
   ],
   "source": [
    "number_train_images = int(len(images) * 0.9)\n",
    "train_images, train_labels = images[:number_train_images], labels[:number_train_images]\n",
    "test_images, test_labels = images[number_train_images:], labels[number_train_images:]\n",
    "\n",
    "cur_labels = train_labels + test_labels\n",
    "splits = ['train' for _ in range(len(train_labels))] + ['test' for _ in range(len(test_labels))] \n",
    "print(len(labels), len(splits))\n",
    "df = pd.DataFrame(list(zip(cur_labels, splits)),\n",
    "               columns =['labels', 'splits'])\n",
    "\n",
    "p = sns.countplot(data=df, x='labels', hue='splits')\n",
    "p.legend(title='labels', bbox_to_anchor=(1, 1), loc='upper left')\n",
    "\n",
    "for c in p.containers:\n",
    "    # set the bar label\n",
    "    p.bar_label(c, fmt='%.0f', label_type='edge')"
   ]
  },
  {
   "cell_type": "code",
   "execution_count": 13,
   "id": "206e9690",
   "metadata": {
    "execution": {
     "iopub.execute_input": "2025-09-04T03:10:07.487558Z",
     "iopub.status.busy": "2025-09-04T03:10:07.487228Z",
     "iopub.status.idle": "2025-09-04T03:10:10.670763Z",
     "shell.execute_reply": "2025-09-04T03:10:10.669938Z"
    },
    "papermill": {
     "duration": 3.218962,
     "end_time": "2025-09-04T03:10:10.672269",
     "exception": false,
     "start_time": "2025-09-04T03:10:07.453307",
     "status": "completed"
    },
    "tags": []
   },
   "outputs": [
    {
     "name": "stderr",
     "output_type": "stream",
     "text": [
      "I0000 00:00:1756955407.776132      19 gpu_device.cc:2022] Created device /job:localhost/replica:0/task:0/device:GPU:0 with 13942 MB memory:  -> device: 0, name: Tesla T4, pci bus id: 0000:00:04.0, compute capability: 7.5\n",
      "I0000 00:00:1756955407.776922      19 gpu_device.cc:2022] Created device /job:localhost/replica:0/task:0/device:GPU:1 with 13942 MB memory:  -> device: 1, name: Tesla T4, pci bus id: 0000:00:05.0, compute capability: 7.5\n"
     ]
    }
   ],
   "source": [
    "def load_and_preprocess_image(path):\n",
    "    image = tf.io.read_file(path)\n",
    "    \n",
    "    image = tf.image.decode_jpeg(image, channels=3)\n",
    "    image = tf.image.resize(image, [260, 260], 'nearest')\n",
    "    image = tf.cast(image, tf.float32) / 255.0\n",
    "    return image\n",
    "\n",
    "def data_augment(image, label, minority_threshold=2000):\n",
    "    # Áp dụng augmentation cho tất cả ảnh, nhưng tăng cường cho lớp thiểu số\n",
    "    image = tf.cast(image, tf.float32)\n",
    "    if tf.random.uniform(()) > 0.5:\n",
    "        image = tf.image.random_flip_left_right(image)\n",
    "        if label < minority_threshold:  # Chỉ áp dụng thêm cho lớp thiểu số\n",
    "            image = tf.image.rot90(image, k=tf.random.uniform(shape=[], minval=1, maxval=4, dtype=tf.int32))\n",
    "            image = tf.image.random_brightness(image, max_delta=0.2)\n",
    "            image = tf.image.random_crop(image, size=[240, 240, 3])\n",
    "            image = tf.image.resize(image, [260, 260])\n",
    "    return image, label   \n",
    "\n",
    "def load_and_preprocess_from_path_labels(path, label):\n",
    "    return load_and_preprocess_image(path), label\n",
    "\n",
    "# over-sampling\n",
    "def create_balanced_dataset(images, labels, minority_threshold=2000, batch_size=10):\n",
    "    # Tách thành các dataset theo nhãn\n",
    "    unique_labels = sorted(set(labels))\n",
    "    datasets = []\n",
    "    for label in unique_labels:\n",
    "        mask = [l == label for l in labels]\n",
    "        ds = tf.data.Dataset.from_tensor_slices(([images[i] for i in range(len(mask)) if mask[i]], [labels[i] for i in range(len(mask)) if mask[i]]))\n",
    "        ds = ds.map(load_and_preprocess_from_path_labels, num_parallel_calls=tf.data.AUTOTUNE)\n",
    "        # Lặp lại lớp thiểu số để tăng số lượng\n",
    "        repeat_times = 5 if label >= minority_threshold else 1\n",
    "        ds = ds.repeat(repeat_times)\n",
    "        ds = ds.map(lambda x, y: data_augment(x, y), num_parallel_calls=tf.data.AUTOTUNE)\n",
    "\n",
    "        datasets.append(ds)\n",
    "    \n",
    "    # Kết hợp các dataset với trọng số bằng nhau\n",
    "    balanced_ds = tf.data.experimental.sample_from_datasets(\n",
    "        datasets,\n",
    "        weights=[1.0] * len(unique_labels),\n",
    "        stop_on_empty_dataset=False\n",
    "    )\n",
    "    return balanced_ds.shuffle(2048).batch(batch_size).prefetch(tf.data.AUTOTUNE)\n",
    "\n",
    "# Sử dụng\n",
    "train_ds = create_balanced_dataset(train_images, train_labels)\n",
    "test_ds = tf.data.Dataset.from_tensor_slices((test_images, test_labels))\n",
    "test_ds = test_ds.map(load_and_preprocess_from_path_labels, num_parallel_calls=tf.data.AUTOTUNE).batch(10).prefetch(tf.data.AUTOTUNE)"
   ]
  },
  {
   "cell_type": "code",
   "execution_count": 14,
   "id": "87932903",
   "metadata": {
    "execution": {
     "iopub.execute_input": "2025-09-04T03:10:10.733756Z",
     "iopub.status.busy": "2025-09-04T03:10:10.733069Z",
     "iopub.status.idle": "2025-09-04T03:10:10.738007Z",
     "shell.execute_reply": "2025-09-04T03:10:10.737367Z"
    },
    "papermill": {
     "duration": 0.037213,
     "end_time": "2025-09-04T03:10:10.739280",
     "exception": false,
     "start_time": "2025-09-04T03:10:10.702067",
     "status": "completed"
    },
    "tags": []
   },
   "outputs": [
    {
     "data": {
      "text/plain": [
       "<_PrefetchDataset element_spec=(TensorSpec(shape=(None, 260, 260, 3), dtype=tf.float32, name=None), TensorSpec(shape=(None,), dtype=tf.int32, name=None))>"
      ]
     },
     "execution_count": 14,
     "metadata": {},
     "output_type": "execute_result"
    }
   ],
   "source": [
    "train_ds"
   ]
  },
  {
   "cell_type": "code",
   "execution_count": 15,
   "id": "ee3cab86",
   "metadata": {
    "execution": {
     "iopub.execute_input": "2025-09-04T03:10:10.800429Z",
     "iopub.status.busy": "2025-09-04T03:10:10.800151Z",
     "iopub.status.idle": "2025-09-04T03:10:10.805430Z",
     "shell.execute_reply": "2025-09-04T03:10:10.804634Z"
    },
    "papermill": {
     "duration": 0.037044,
     "end_time": "2025-09-04T03:10:10.806507",
     "exception": false,
     "start_time": "2025-09-04T03:10:10.769463",
     "status": "completed"
    },
    "tags": []
   },
   "outputs": [],
   "source": [
    "LR_START = 0.00001\n",
    "LR_MAX = 0.00005 \n",
    "LR_MIN = 0.00001\n",
    "LR_RAMPUP_EPOCHS = 4\n",
    "LR_SUSTAIN_EPOCHS = 0\n",
    "LR_EXP_DECAY = .8\n",
    "EPOCHS = 50\n",
    "\n",
    "def lrfn(epoch):\n",
    "    if epoch < LR_RAMPUP_EPOCHS:\n",
    "        lr = (LR_MAX - LR_START) / LR_RAMPUP_EPOCHS * epoch + LR_START\n",
    "    elif epoch < LR_RAMPUP_EPOCHS + LR_SUSTAIN_EPOCHS:\n",
    "        lr = LR_MAX\n",
    "    else:\n",
    "        lr = (LR_MAX - LR_MIN) * LR_EXP_DECAY**(epoch - LR_RAMPUP_EPOCHS - LR_SUSTAIN_EPOCHS) + LR_MIN\n",
    "    return lr\n",
    "    \n",
    "lr_callback = tf.keras.callbacks.LearningRateScheduler(lrfn, verbose=True)"
   ]
  },
  {
   "cell_type": "code",
   "execution_count": 16,
   "id": "8d0375ac",
   "metadata": {
    "execution": {
     "iopub.execute_input": "2025-09-04T03:10:10.867009Z",
     "iopub.status.busy": "2025-09-04T03:10:10.866296Z",
     "iopub.status.idle": "2025-09-04T03:10:14.218628Z",
     "shell.execute_reply": "2025-09-04T03:10:14.217996Z"
    },
    "papermill": {
     "duration": 3.38372,
     "end_time": "2025-09-04T03:10:14.220186",
     "exception": false,
     "start_time": "2025-09-04T03:10:10.836466",
     "status": "completed"
    },
    "tags": []
   },
   "outputs": [
    {
     "name": "stdout",
     "output_type": "stream",
     "text": [
      "Downloading data from https://storage.googleapis.com/keras-applications/efficientnetb2.h5\n",
      "\u001b[1m37432240/37432240\u001b[0m \u001b[32m━━━━━━━━━━━━━━━━━━━━\u001b[0m\u001b[37m\u001b[0m \u001b[1m0s\u001b[0m 0us/step\n"
     ]
    }
   ],
   "source": [
    "model = keras.applications.EfficientNetB2(include_top=True)\n",
    "\n",
    "# for input you can also do model.input,\n",
    "# then for base_outputs you can obviously\n",
    "# choose other than simply removing the last one :)\n",
    "base_inputs = model.layers[0].input\n",
    "base_outputs = model.layers[-1].output\n",
    "classifier = layers.Dense(classes)(base_outputs)\n",
    "# new_model = keras.Model(inputs=base_inputs, outputs=classifier)\n",
    "\n",
    "\n",
    "model.compile(\n",
    "    optimizer=keras.optimizers.Adam(),\n",
    "    loss=[keras.losses.SparseCategoricalCrossentropy(from_logits=False),],\n",
    "    metrics=[\"sparse_categorical_accuracy\"],\n",
    ")"
   ]
  },
  {
   "cell_type": "code",
   "execution_count": 17,
   "id": "23c9be6e",
   "metadata": {
    "execution": {
     "iopub.execute_input": "2025-09-04T03:10:14.281145Z",
     "iopub.status.busy": "2025-09-04T03:10:14.280851Z",
     "iopub.status.idle": "2025-09-04T06:51:43.231271Z",
     "shell.execute_reply": "2025-09-04T06:51:43.230588Z"
    },
    "papermill": {
     "duration": 13288.983191,
     "end_time": "2025-09-04T06:51:43.232875",
     "exception": false,
     "start_time": "2025-09-04T03:10:14.249684",
     "status": "completed"
    },
    "tags": []
   },
   "outputs": [
    {
     "name": "stdout",
     "output_type": "stream",
     "text": [
      "\n",
      "Epoch 1: LearningRateScheduler setting learning rate to 1e-05.\n",
      "Epoch 1/50\n"
     ]
    },
    {
     "name": "stderr",
     "output_type": "stream",
     "text": [
      "WARNING: All log messages before absl::InitializeLog() is called are written to STDERR\n",
      "I0000 00:00:1756955520.192509      66 service.cc:148] XLA service 0x793434008ac0 initialized for platform CUDA (this does not guarantee that XLA will be used). Devices:\n",
      "I0000 00:00:1756955520.194105      66 service.cc:156]   StreamExecutor device (0): Tesla T4, Compute Capability 7.5\n",
      "I0000 00:00:1756955520.194135      66 service.cc:156]   StreamExecutor device (1): Tesla T4, Compute Capability 7.5\n",
      "I0000 00:00:1756955528.318175      66 cuda_dnn.cc:529] Loaded cuDNN version 90300\n",
      "E0000 00:00:1756955536.350037      66 gpu_timer.cc:82] Delay kernel timed out: measured time has sub-optimal accuracy. There may be a missing warmup execution, please investigate in Nsight Systems.\n",
      "E0000 00:00:1756955536.502983      66 gpu_timer.cc:82] Delay kernel timed out: measured time has sub-optimal accuracy. There may be a missing warmup execution, please investigate in Nsight Systems.\n",
      "E0000 00:00:1756955536.652965      66 gpu_timer.cc:82] Delay kernel timed out: measured time has sub-optimal accuracy. There may be a missing warmup execution, please investigate in Nsight Systems.\n",
      "E0000 00:00:1756955542.344001      66 gpu_timer.cc:82] Delay kernel timed out: measured time has sub-optimal accuracy. There may be a missing warmup execution, please investigate in Nsight Systems.\n",
      "E0000 00:00:1756955542.482707      66 gpu_timer.cc:82] Delay kernel timed out: measured time has sub-optimal accuracy. There may be a missing warmup execution, please investigate in Nsight Systems.\n",
      "E0000 00:00:1756955542.825690      66 gpu_timer.cc:82] Delay kernel timed out: measured time has sub-optimal accuracy. There may be a missing warmup execution, please investigate in Nsight Systems.\n",
      "E0000 00:00:1756955542.972067      66 gpu_timer.cc:82] Delay kernel timed out: measured time has sub-optimal accuracy. There may be a missing warmup execution, please investigate in Nsight Systems.\n"
     ]
    },
    {
     "name": "stdout",
     "output_type": "stream",
     "text": [
      "      1/Unknown \u001b[1m166s\u001b[0m 166s/step - loss: 7.6485 - sparse_categorical_accuracy: 0.0000e+00"
     ]
    },
    {
     "name": "stderr",
     "output_type": "stream",
     "text": [
      "I0000 00:00:1756955579.857913      66 device_compiler.h:188] Compiled cluster using XLA!  This line is logged at most once for the lifetime of the process.\n"
     ]
    },
    {
     "name": "stdout",
     "output_type": "stream",
     "text": [
      "   2279/Unknown \u001b[1m395s\u001b[0m 101ms/step - loss: 3.8633 - sparse_categorical_accuracy: 0.2989"
     ]
    },
    {
     "name": "stderr",
     "output_type": "stream",
     "text": [
      "E0000 00:00:1756955822.815113      68 gpu_timer.cc:82] Delay kernel timed out: measured time has sub-optimal accuracy. There may be a missing warmup execution, please investigate in Nsight Systems.\n",
      "E0000 00:00:1756955822.960122      68 gpu_timer.cc:82] Delay kernel timed out: measured time has sub-optimal accuracy. There may be a missing warmup execution, please investigate in Nsight Systems.\n",
      "E0000 00:00:1756955827.841884      68 gpu_timer.cc:82] Delay kernel timed out: measured time has sub-optimal accuracy. There may be a missing warmup execution, please investigate in Nsight Systems.\n",
      "E0000 00:00:1756955827.978686      68 gpu_timer.cc:82] Delay kernel timed out: measured time has sub-optimal accuracy. There may be a missing warmup execution, please investigate in Nsight Systems.\n"
     ]
    },
    {
     "name": "stdout",
     "output_type": "stream",
     "text": [
      "   2280/Unknown \u001b[1m453s\u001b[0m 126ms/step - loss: 3.8624 - sparse_categorical_accuracy: 0.2990"
     ]
    },
    {
     "name": "stderr",
     "output_type": "stream",
     "text": [
      "/usr/local/lib/python3.11/dist-packages/keras/src/trainers/epoch_iterator.py:151: UserWarning: Your input ran out of data; interrupting training. Make sure that your dataset or generator can generate at least `steps_per_epoch * epochs` batches. You may need to use the `.repeat()` function when building your dataset.\n",
      "  self._interrupted_warning()\n",
      "E0000 00:00:1756955894.952549      68 gpu_timer.cc:82] Delay kernel timed out: measured time has sub-optimal accuracy. There may be a missing warmup execution, please investigate in Nsight Systems.\n",
      "E0000 00:00:1756955895.100634      68 gpu_timer.cc:82] Delay kernel timed out: measured time has sub-optimal accuracy. There may be a missing warmup execution, please investigate in Nsight Systems.\n"
     ]
    },
    {
     "name": "stdout",
     "output_type": "stream",
     "text": [
      "\u001b[1m2280/2280\u001b[0m \u001b[32m━━━━━━━━━━━━━━━━━━━━\u001b[0m\u001b[37m\u001b[0m \u001b[1m486s\u001b[0m 141ms/step - loss: 3.8616 - sparse_categorical_accuracy: 0.2991 - val_loss: 2.3664 - val_sparse_categorical_accuracy: 0.5043 - learning_rate: 1.0000e-05\n",
      "\n",
      "Epoch 2: LearningRateScheduler setting learning rate to 2e-05.\n",
      "Epoch 2/50\n",
      "\u001b[1m2280/2280\u001b[0m \u001b[32m━━━━━━━━━━━━━━━━━━━━\u001b[0m\u001b[37m\u001b[0m \u001b[1m263s\u001b[0m 111ms/step - loss: 1.6276 - sparse_categorical_accuracy: 0.4898 - val_loss: 2.0185 - val_sparse_categorical_accuracy: 0.5335 - learning_rate: 2.0000e-05\n",
      "\n",
      "Epoch 3: LearningRateScheduler setting learning rate to 3.0000000000000004e-05.\n",
      "Epoch 3/50\n",
      "\u001b[1m2280/2280\u001b[0m \u001b[32m━━━━━━━━━━━━━━━━━━━━\u001b[0m\u001b[37m\u001b[0m \u001b[1m260s\u001b[0m 110ms/step - loss: 1.2993 - sparse_categorical_accuracy: 0.5658 - val_loss: 1.7166 - val_sparse_categorical_accuracy: 0.5639 - learning_rate: 3.0000e-05\n",
      "\n",
      "Epoch 4: LearningRateScheduler setting learning rate to 4e-05.\n",
      "Epoch 4/50\n",
      "\u001b[1m2280/2280\u001b[0m \u001b[32m━━━━━━━━━━━━━━━━━━━━\u001b[0m\u001b[37m\u001b[0m \u001b[1m260s\u001b[0m 110ms/step - loss: 1.1524 - sparse_categorical_accuracy: 0.6103 - val_loss: 1.9756 - val_sparse_categorical_accuracy: 0.5631 - learning_rate: 4.0000e-05\n",
      "\n",
      "Epoch 5: LearningRateScheduler setting learning rate to 5e-05.\n",
      "Epoch 5/50\n",
      "\u001b[1m2280/2280\u001b[0m \u001b[32m━━━━━━━━━━━━━━━━━━━━\u001b[0m\u001b[37m\u001b[0m \u001b[1m259s\u001b[0m 110ms/step - loss: 1.0178 - sparse_categorical_accuracy: 0.6509 - val_loss: 1.6754 - val_sparse_categorical_accuracy: 0.5876 - learning_rate: 5.0000e-05\n",
      "\n",
      "Epoch 6: LearningRateScheduler setting learning rate to 4.2000000000000004e-05.\n",
      "Epoch 6/50\n",
      "\u001b[1m2280/2280\u001b[0m \u001b[32m━━━━━━━━━━━━━━━━━━━━\u001b[0m\u001b[37m\u001b[0m \u001b[1m262s\u001b[0m 111ms/step - loss: 0.9384 - sparse_categorical_accuracy: 0.6783 - val_loss: 1.4825 - val_sparse_categorical_accuracy: 0.6180 - learning_rate: 4.2000e-05\n",
      "\n",
      "Epoch 7: LearningRateScheduler setting learning rate to 3.5600000000000005e-05.\n",
      "Epoch 7/50\n",
      "\u001b[1m2280/2280\u001b[0m \u001b[32m━━━━━━━━━━━━━━━━━━━━\u001b[0m\u001b[37m\u001b[0m \u001b[1m260s\u001b[0m 109ms/step - loss: 0.8593 - sparse_categorical_accuracy: 0.7131 - val_loss: 1.4801 - val_sparse_categorical_accuracy: 0.6133 - learning_rate: 3.5600e-05\n",
      "\n",
      "Epoch 8: LearningRateScheduler setting learning rate to 3.0480000000000006e-05.\n",
      "Epoch 8/50\n",
      "\u001b[1m2280/2280\u001b[0m \u001b[32m━━━━━━━━━━━━━━━━━━━━\u001b[0m\u001b[37m\u001b[0m \u001b[1m262s\u001b[0m 111ms/step - loss: 0.8072 - sparse_categorical_accuracy: 0.7346 - val_loss: 1.2443 - val_sparse_categorical_accuracy: 0.6527 - learning_rate: 3.0480e-05\n",
      "\n",
      "Epoch 9: LearningRateScheduler setting learning rate to 2.6384000000000004e-05.\n",
      "Epoch 9/50\n",
      "\u001b[1m2280/2280\u001b[0m \u001b[32m━━━━━━━━━━━━━━━━━━━━\u001b[0m\u001b[37m\u001b[0m \u001b[1m259s\u001b[0m 109ms/step - loss: 0.7303 - sparse_categorical_accuracy: 0.7502 - val_loss: 1.3854 - val_sparse_categorical_accuracy: 0.6346 - learning_rate: 2.6384e-05\n",
      "\n",
      "Epoch 10: LearningRateScheduler setting learning rate to 2.3107200000000005e-05.\n",
      "Epoch 10/50\n",
      "\u001b[1m2280/2280\u001b[0m \u001b[32m━━━━━━━━━━━━━━━━━━━━\u001b[0m\u001b[37m\u001b[0m \u001b[1m260s\u001b[0m 110ms/step - loss: 0.6935 - sparse_categorical_accuracy: 0.7685 - val_loss: 1.2516 - val_sparse_categorical_accuracy: 0.6452 - learning_rate: 2.3107e-05\n",
      "\n",
      "Epoch 11: LearningRateScheduler setting learning rate to 2.0485760000000004e-05.\n",
      "Epoch 11/50\n",
      "\u001b[1m2280/2280\u001b[0m \u001b[32m━━━━━━━━━━━━━━━━━━━━\u001b[0m\u001b[37m\u001b[0m \u001b[1m259s\u001b[0m 110ms/step - loss: 0.6543 - sparse_categorical_accuracy: 0.7743 - val_loss: 1.2825 - val_sparse_categorical_accuracy: 0.6456 - learning_rate: 2.0486e-05\n",
      "\n",
      "Epoch 12: LearningRateScheduler setting learning rate to 1.8388608000000004e-05.\n",
      "Epoch 12/50\n",
      "\u001b[1m2280/2280\u001b[0m \u001b[32m━━━━━━━━━━━━━━━━━━━━\u001b[0m\u001b[37m\u001b[0m \u001b[1m261s\u001b[0m 110ms/step - loss: 0.6279 - sparse_categorical_accuracy: 0.7851 - val_loss: 1.2532 - val_sparse_categorical_accuracy: 0.6444 - learning_rate: 1.8389e-05\n",
      "\n",
      "Epoch 13: LearningRateScheduler setting learning rate to 1.6710886400000004e-05.\n",
      "Epoch 13/50\n",
      "\u001b[1m2280/2280\u001b[0m \u001b[32m━━━━━━━━━━━━━━━━━━━━\u001b[0m\u001b[37m\u001b[0m \u001b[1m261s\u001b[0m 111ms/step - loss: 0.5857 - sparse_categorical_accuracy: 0.7972 - val_loss: 1.2159 - val_sparse_categorical_accuracy: 0.6606 - learning_rate: 1.6711e-05\n",
      "\n",
      "Epoch 14: LearningRateScheduler setting learning rate to 1.5368709120000003e-05.\n",
      "Epoch 14/50\n",
      "\u001b[1m2280/2280\u001b[0m \u001b[32m━━━━━━━━━━━━━━━━━━━━\u001b[0m\u001b[37m\u001b[0m \u001b[1m259s\u001b[0m 109ms/step - loss: 0.5562 - sparse_categorical_accuracy: 0.8089 - val_loss: 1.2908 - val_sparse_categorical_accuracy: 0.6531 - learning_rate: 1.5369e-05\n",
      "\n",
      "Epoch 15: LearningRateScheduler setting learning rate to 1.4294967296000005e-05.\n",
      "Epoch 15/50\n",
      "\u001b[1m2280/2280\u001b[0m \u001b[32m━━━━━━━━━━━━━━━━━━━━\u001b[0m\u001b[37m\u001b[0m \u001b[1m259s\u001b[0m 110ms/step - loss: 0.5292 - sparse_categorical_accuracy: 0.8169 - val_loss: 1.2828 - val_sparse_categorical_accuracy: 0.6539 - learning_rate: 1.4295e-05\n",
      "\n",
      "Epoch 16: LearningRateScheduler setting learning rate to 1.3435973836800004e-05.\n",
      "Epoch 16/50\n",
      "\u001b[1m2280/2280\u001b[0m \u001b[32m━━━━━━━━━━━━━━━━━━━━\u001b[0m\u001b[37m\u001b[0m \u001b[1m258s\u001b[0m 109ms/step - loss: 0.4856 - sparse_categorical_accuracy: 0.8290 - val_loss: 1.1114 - val_sparse_categorical_accuracy: 0.6914 - learning_rate: 1.3436e-05\n",
      "\n",
      "Epoch 17: LearningRateScheduler setting learning rate to 1.2748779069440003e-05.\n",
      "Epoch 17/50\n",
      "\u001b[1m2280/2280\u001b[0m \u001b[32m━━━━━━━━━━━━━━━━━━━━\u001b[0m\u001b[37m\u001b[0m \u001b[1m262s\u001b[0m 111ms/step - loss: 0.4777 - sparse_categorical_accuracy: 0.8331 - val_loss: 1.1177 - val_sparse_categorical_accuracy: 0.6953 - learning_rate: 1.2749e-05\n",
      "\n",
      "Epoch 18: LearningRateScheduler setting learning rate to 1.2199023255552003e-05.\n",
      "Epoch 18/50\n",
      "\u001b[1m2280/2280\u001b[0m \u001b[32m━━━━━━━━━━━━━━━━━━━━\u001b[0m\u001b[37m\u001b[0m \u001b[1m258s\u001b[0m 109ms/step - loss: 0.4618 - sparse_categorical_accuracy: 0.8403 - val_loss: 1.1939 - val_sparse_categorical_accuracy: 0.6673 - learning_rate: 1.2199e-05\n",
      "\n",
      "Epoch 19: LearningRateScheduler setting learning rate to 1.1759218604441602e-05.\n",
      "Epoch 19/50\n",
      "\u001b[1m2280/2280\u001b[0m \u001b[32m━━━━━━━━━━━━━━━━━━━━\u001b[0m\u001b[37m\u001b[0m \u001b[1m260s\u001b[0m 110ms/step - loss: 0.4584 - sparse_categorical_accuracy: 0.8392 - val_loss: 1.1446 - val_sparse_categorical_accuracy: 0.6914 - learning_rate: 1.1759e-05\n",
      "\n",
      "Epoch 20: LearningRateScheduler setting learning rate to 1.1407374883553282e-05.\n",
      "Epoch 20/50\n",
      "\u001b[1m2280/2280\u001b[0m \u001b[32m━━━━━━━━━━━━━━━━━━━━\u001b[0m\u001b[37m\u001b[0m \u001b[1m260s\u001b[0m 110ms/step - loss: 0.4304 - sparse_categorical_accuracy: 0.8458 - val_loss: 1.1169 - val_sparse_categorical_accuracy: 0.6902 - learning_rate: 1.1407e-05\n",
      "\n",
      "Epoch 21: LearningRateScheduler setting learning rate to 1.1125899906842627e-05.\n",
      "Epoch 21/50\n",
      "\u001b[1m2280/2280\u001b[0m \u001b[32m━━━━━━━━━━━━━━━━━━━━\u001b[0m\u001b[37m\u001b[0m \u001b[1m263s\u001b[0m 111ms/step - loss: 0.4118 - sparse_categorical_accuracy: 0.8532 - val_loss: 1.1646 - val_sparse_categorical_accuracy: 0.6796 - learning_rate: 1.1126e-05\n",
      "\n",
      "Epoch 22: LearningRateScheduler setting learning rate to 1.0900719925474101e-05.\n",
      "Epoch 22/50\n",
      "\u001b[1m2280/2280\u001b[0m \u001b[32m━━━━━━━━━━━━━━━━━━━━\u001b[0m\u001b[37m\u001b[0m \u001b[1m260s\u001b[0m 110ms/step - loss: 0.4021 - sparse_categorical_accuracy: 0.8580 - val_loss: 1.1739 - val_sparse_categorical_accuracy: 0.6792 - learning_rate: 1.0901e-05\n",
      "\n",
      "Epoch 23: LearningRateScheduler setting learning rate to 1.0720575940379282e-05.\n",
      "Epoch 23/50\n",
      "\u001b[1m2280/2280\u001b[0m \u001b[32m━━━━━━━━━━━━━━━━━━━━\u001b[0m\u001b[37m\u001b[0m \u001b[1m262s\u001b[0m 111ms/step - loss: 0.3874 - sparse_categorical_accuracy: 0.8631 - val_loss: 1.2114 - val_sparse_categorical_accuracy: 0.6780 - learning_rate: 1.0721e-05\n",
      "\n",
      "Epoch 24: LearningRateScheduler setting learning rate to 1.0576460752303425e-05.\n",
      "Epoch 24/50\n",
      "\u001b[1m2280/2280\u001b[0m \u001b[32m━━━━━━━━━━━━━━━━━━━━\u001b[0m\u001b[37m\u001b[0m \u001b[1m260s\u001b[0m 110ms/step - loss: 0.3707 - sparse_categorical_accuracy: 0.8721 - val_loss: 1.0866 - val_sparse_categorical_accuracy: 0.7048 - learning_rate: 1.0576e-05\n",
      "\n",
      "Epoch 25: LearningRateScheduler setting learning rate to 1.046116860184274e-05.\n",
      "Epoch 25/50\n",
      "\u001b[1m2280/2280\u001b[0m \u001b[32m━━━━━━━━━━━━━━━━━━━━\u001b[0m\u001b[37m\u001b[0m \u001b[1m262s\u001b[0m 111ms/step - loss: 0.3599 - sparse_categorical_accuracy: 0.8680 - val_loss: 1.1435 - val_sparse_categorical_accuracy: 0.6835 - learning_rate: 1.0461e-05\n",
      "\n",
      "Epoch 26: LearningRateScheduler setting learning rate to 1.0368934881474192e-05.\n",
      "Epoch 26/50\n",
      "\u001b[1m2280/2280\u001b[0m \u001b[32m━━━━━━━━━━━━━━━━━━━━\u001b[0m\u001b[37m\u001b[0m \u001b[1m262s\u001b[0m 110ms/step - loss: 0.3397 - sparse_categorical_accuracy: 0.8796 - val_loss: 1.0982 - val_sparse_categorical_accuracy: 0.7131 - learning_rate: 1.0369e-05\n",
      "\n",
      "Epoch 27: LearningRateScheduler setting learning rate to 1.0295147905179355e-05.\n",
      "Epoch 27/50\n",
      "\u001b[1m2280/2280\u001b[0m \u001b[32m━━━━━━━━━━━━━━━━━━━━\u001b[0m\u001b[37m\u001b[0m \u001b[1m262s\u001b[0m 111ms/step - loss: 0.3287 - sparse_categorical_accuracy: 0.8826 - val_loss: 1.1064 - val_sparse_categorical_accuracy: 0.7028 - learning_rate: 1.0295e-05\n",
      "\n",
      "Epoch 28: LearningRateScheduler setting learning rate to 1.0236118324143484e-05.\n",
      "Epoch 28/50\n",
      "\u001b[1m2280/2280\u001b[0m \u001b[32m━━━━━━━━━━━━━━━━━━━━\u001b[0m\u001b[37m\u001b[0m \u001b[1m259s\u001b[0m 109ms/step - loss: 0.3263 - sparse_categorical_accuracy: 0.8838 - val_loss: 1.1512 - val_sparse_categorical_accuracy: 0.6981 - learning_rate: 1.0236e-05\n",
      "\n",
      "Epoch 29: LearningRateScheduler setting learning rate to 1.0188894659314786e-05.\n",
      "Epoch 29/50\n",
      "\u001b[1m2280/2280\u001b[0m \u001b[32m━━━━━━━━━━━━━━━━━━━━\u001b[0m\u001b[37m\u001b[0m \u001b[1m271s\u001b[0m 115ms/step - loss: 0.3216 - sparse_categorical_accuracy: 0.8881 - val_loss: 1.1368 - val_sparse_categorical_accuracy: 0.7060 - learning_rate: 1.0189e-05\n",
      "\n",
      "Epoch 30: LearningRateScheduler setting learning rate to 1.015111572745183e-05.\n",
      "Epoch 30/50\n",
      "\u001b[1m2280/2280\u001b[0m \u001b[32m━━━━━━━━━━━━━━━━━━━━\u001b[0m\u001b[37m\u001b[0m \u001b[1m259s\u001b[0m 109ms/step - loss: 0.3175 - sparse_categorical_accuracy: 0.8894 - val_loss: 1.0846 - val_sparse_categorical_accuracy: 0.7147 - learning_rate: 1.0151e-05\n",
      "\n",
      "Epoch 31: LearningRateScheduler setting learning rate to 1.0120892581961464e-05.\n",
      "Epoch 31/50\n",
      "\u001b[1m2280/2280\u001b[0m \u001b[32m━━━━━━━━━━━━━━━━━━━━\u001b[0m\u001b[37m\u001b[0m \u001b[1m262s\u001b[0m 111ms/step - loss: 0.3102 - sparse_categorical_accuracy: 0.8885 - val_loss: 1.0918 - val_sparse_categorical_accuracy: 0.7135 - learning_rate: 1.0121e-05\n",
      "\n",
      "Epoch 32: LearningRateScheduler setting learning rate to 1.009671406556917e-05.\n",
      "Epoch 32/50\n",
      "\u001b[1m2280/2280\u001b[0m \u001b[32m━━━━━━━━━━━━━━━━━━━━\u001b[0m\u001b[37m\u001b[0m \u001b[1m260s\u001b[0m 110ms/step - loss: 0.3012 - sparse_categorical_accuracy: 0.8945 - val_loss: 1.1702 - val_sparse_categorical_accuracy: 0.7052 - learning_rate: 1.0097e-05\n",
      "\n",
      "Epoch 33: LearningRateScheduler setting learning rate to 1.0077371252455338e-05.\n",
      "Epoch 33/50\n",
      "\u001b[1m2280/2280\u001b[0m \u001b[32m━━━━━━━━━━━━━━━━━━━━\u001b[0m\u001b[37m\u001b[0m \u001b[1m266s\u001b[0m 112ms/step - loss: 0.2804 - sparse_categorical_accuracy: 0.9021 - val_loss: 1.1371 - val_sparse_categorical_accuracy: 0.7084 - learning_rate: 1.0077e-05\n",
      "\n",
      "Epoch 34: LearningRateScheduler setting learning rate to 1.006189700196427e-05.\n",
      "Epoch 34/50\n",
      "\u001b[1m2280/2280\u001b[0m \u001b[32m━━━━━━━━━━━━━━━━━━━━\u001b[0m\u001b[37m\u001b[0m \u001b[1m261s\u001b[0m 110ms/step - loss: 0.2772 - sparse_categorical_accuracy: 0.9007 - val_loss: 1.1295 - val_sparse_categorical_accuracy: 0.7123 - learning_rate: 1.0062e-05\n",
      "\n",
      "Epoch 35: LearningRateScheduler setting learning rate to 1.0049517601571416e-05.\n",
      "Epoch 35/50\n",
      "\u001b[1m2280/2280\u001b[0m \u001b[32m━━━━━━━━━━━━━━━━━━━━\u001b[0m\u001b[37m\u001b[0m \u001b[1m264s\u001b[0m 111ms/step - loss: 0.2650 - sparse_categorical_accuracy: 0.9090 - val_loss: 1.0635 - val_sparse_categorical_accuracy: 0.7360 - learning_rate: 1.0050e-05\n",
      "\n",
      "Epoch 36: LearningRateScheduler setting learning rate to 1.0039614081257132e-05.\n",
      "Epoch 36/50\n",
      "\u001b[1m2280/2280\u001b[0m \u001b[32m━━━━━━━━━━━━━━━━━━━━\u001b[0m\u001b[37m\u001b[0m \u001b[1m263s\u001b[0m 110ms/step - loss: 0.2663 - sparse_categorical_accuracy: 0.9078 - val_loss: 1.1429 - val_sparse_categorical_accuracy: 0.7261 - learning_rate: 1.0040e-05\n",
      "\n",
      "Epoch 37: LearningRateScheduler setting learning rate to 1.0031691265005707e-05.\n",
      "Epoch 37/50\n",
      "\u001b[1m2280/2280\u001b[0m \u001b[32m━━━━━━━━━━━━━━━━━━━━\u001b[0m\u001b[37m\u001b[0m \u001b[1m267s\u001b[0m 113ms/step - loss: 0.2620 - sparse_categorical_accuracy: 0.9091 - val_loss: 1.1026 - val_sparse_categorical_accuracy: 0.7265 - learning_rate: 1.0032e-05\n",
      "\n",
      "Epoch 38: LearningRateScheduler setting learning rate to 1.0025353012004565e-05.\n",
      "Epoch 38/50\n",
      "\u001b[1m2280/2280\u001b[0m \u001b[32m━━━━━━━━━━━━━━━━━━━━\u001b[0m\u001b[37m\u001b[0m \u001b[1m260s\u001b[0m 110ms/step - loss: 0.2527 - sparse_categorical_accuracy: 0.9101 - val_loss: 1.1548 - val_sparse_categorical_accuracy: 0.7198 - learning_rate: 1.0025e-05\n",
      "\n",
      "Epoch 39: LearningRateScheduler setting learning rate to 1.0020282409603653e-05.\n",
      "Epoch 39/50\n",
      "\u001b[1m2280/2280\u001b[0m \u001b[32m━━━━━━━━━━━━━━━━━━━━\u001b[0m\u001b[37m\u001b[0m \u001b[1m261s\u001b[0m 110ms/step - loss: 0.2376 - sparse_categorical_accuracy: 0.9185 - val_loss: 1.1301 - val_sparse_categorical_accuracy: 0.7305 - learning_rate: 1.0020e-05\n",
      "\n",
      "Epoch 40: LearningRateScheduler setting learning rate to 1.0016225927682922e-05.\n",
      "Epoch 40/50\n",
      "\u001b[1m2280/2280\u001b[0m \u001b[32m━━━━━━━━━━━━━━━━━━━━\u001b[0m\u001b[37m\u001b[0m \u001b[1m260s\u001b[0m 110ms/step - loss: 0.2382 - sparse_categorical_accuracy: 0.9137 - val_loss: 1.0891 - val_sparse_categorical_accuracy: 0.7332 - learning_rate: 1.0016e-05\n",
      "\n",
      "Epoch 41: LearningRateScheduler setting learning rate to 1.0012980742146337e-05.\n",
      "Epoch 41/50\n",
      "\u001b[1m2280/2280\u001b[0m \u001b[32m━━━━━━━━━━━━━━━━━━━━\u001b[0m\u001b[37m\u001b[0m \u001b[1m262s\u001b[0m 111ms/step - loss: 0.2241 - sparse_categorical_accuracy: 0.9221 - val_loss: 1.0364 - val_sparse_categorical_accuracy: 0.7407 - learning_rate: 1.0013e-05\n",
      "\n",
      "Epoch 42: LearningRateScheduler setting learning rate to 1.0010384593717071e-05.\n",
      "Epoch 42/50\n",
      "\u001b[1m2280/2280\u001b[0m \u001b[32m━━━━━━━━━━━━━━━━━━━━\u001b[0m\u001b[37m\u001b[0m \u001b[1m261s\u001b[0m 111ms/step - loss: 0.2166 - sparse_categorical_accuracy: 0.9228 - val_loss: 1.0367 - val_sparse_categorical_accuracy: 0.7431 - learning_rate: 1.0010e-05\n",
      "\n",
      "Epoch 43: LearningRateScheduler setting learning rate to 1.0008307674973657e-05.\n",
      "Epoch 43/50\n",
      "\u001b[1m2280/2280\u001b[0m \u001b[32m━━━━━━━━━━━━━━━━━━━━\u001b[0m\u001b[37m\u001b[0m \u001b[1m262s\u001b[0m 111ms/step - loss: 0.2132 - sparse_categorical_accuracy: 0.9278 - val_loss: 1.1808 - val_sparse_categorical_accuracy: 0.7119 - learning_rate: 1.0008e-05\n",
      "\n",
      "Epoch 44: LearningRateScheduler setting learning rate to 1.0006646139978926e-05.\n",
      "Epoch 44/50\n",
      "\u001b[1m2280/2280\u001b[0m \u001b[32m━━━━━━━━━━━━━━━━━━━━\u001b[0m\u001b[37m\u001b[0m \u001b[1m260s\u001b[0m 111ms/step - loss: 0.2173 - sparse_categorical_accuracy: 0.9211 - val_loss: 1.0319 - val_sparse_categorical_accuracy: 0.7415 - learning_rate: 1.0007e-05\n",
      "\n",
      "Epoch 45: LearningRateScheduler setting learning rate to 1.000531691198314e-05.\n",
      "Epoch 45/50\n",
      "\u001b[1m2280/2280\u001b[0m \u001b[32m━━━━━━━━━━━━━━━━━━━━\u001b[0m\u001b[37m\u001b[0m \u001b[1m261s\u001b[0m 110ms/step - loss: 0.2103 - sparse_categorical_accuracy: 0.9232 - val_loss: 1.1523 - val_sparse_categorical_accuracy: 0.7309 - learning_rate: 1.0005e-05\n",
      "\n",
      "Epoch 46: LearningRateScheduler setting learning rate to 1.0004253529586513e-05.\n",
      "Epoch 46/50\n",
      "\u001b[1m2280/2280\u001b[0m \u001b[32m━━━━━━━━━━━━━━━━━━━━\u001b[0m\u001b[37m\u001b[0m \u001b[1m260s\u001b[0m 110ms/step - loss: 0.2000 - sparse_categorical_accuracy: 0.9279 - val_loss: 1.0895 - val_sparse_categorical_accuracy: 0.7439 - learning_rate: 1.0004e-05\n",
      "\n",
      "Epoch 47: LearningRateScheduler setting learning rate to 1.000340282366921e-05.\n",
      "Epoch 47/50\n",
      "\u001b[1m2280/2280\u001b[0m \u001b[32m━━━━━━━━━━━━━━━━━━━━\u001b[0m\u001b[37m\u001b[0m \u001b[1m263s\u001b[0m 110ms/step - loss: 0.1909 - sparse_categorical_accuracy: 0.9348 - val_loss: 1.1858 - val_sparse_categorical_accuracy: 0.7273 - learning_rate: 1.0003e-05\n",
      "\n",
      "Epoch 48: LearningRateScheduler setting learning rate to 1.0002722258935368e-05.\n",
      "Epoch 48/50\n",
      "\u001b[1m2280/2280\u001b[0m \u001b[32m━━━━━━━━━━━━━━━━━━━━\u001b[0m\u001b[37m\u001b[0m \u001b[1m263s\u001b[0m 112ms/step - loss: 0.1990 - sparse_categorical_accuracy: 0.9314 - val_loss: 1.0396 - val_sparse_categorical_accuracy: 0.7486 - learning_rate: 1.0003e-05\n",
      "\n",
      "Epoch 49: LearningRateScheduler setting learning rate to 1.0002177807148294e-05.\n",
      "Epoch 49/50\n",
      "\u001b[1m2280/2280\u001b[0m \u001b[32m━━━━━━━━━━━━━━━━━━━━\u001b[0m\u001b[37m\u001b[0m \u001b[1m259s\u001b[0m 110ms/step - loss: 0.1913 - sparse_categorical_accuracy: 0.9334 - val_loss: 1.1263 - val_sparse_categorical_accuracy: 0.7451 - learning_rate: 1.0002e-05\n",
      "\n",
      "Epoch 50: LearningRateScheduler setting learning rate to 1.0001742245718636e-05.\n",
      "Epoch 50/50\n",
      "\u001b[1m2280/2280\u001b[0m \u001b[32m━━━━━━━━━━━━━━━━━━━━\u001b[0m\u001b[37m\u001b[0m \u001b[1m261s\u001b[0m 110ms/step - loss: 0.1874 - sparse_categorical_accuracy: 0.9350 - val_loss: 1.1433 - val_sparse_categorical_accuracy: 0.7486 - learning_rate: 1.0002e-05\n"
     ]
    }
   ],
   "source": [
    "history = model.fit(\n",
    "    train_ds,\n",
    "    validation_data=test_ds,\n",
    "    batch_size=16,\n",
    "    epochs=EPOCHS,\n",
    "    verbose=1,\n",
    "    callbacks=lr_callback,\n",
    ")"
   ]
  },
  {
   "cell_type": "code",
   "execution_count": 18,
   "id": "641b1ce7",
   "metadata": {
    "execution": {
     "iopub.execute_input": "2025-09-04T06:51:54.392465Z",
     "iopub.status.busy": "2025-09-04T06:51:54.392135Z",
     "iopub.status.idle": "2025-09-04T06:51:55.533562Z",
     "shell.execute_reply": "2025-09-04T06:51:55.532551Z"
    },
    "papermill": {
     "duration": 6.405226,
     "end_time": "2025-09-04T06:51:55.535238",
     "exception": false,
     "start_time": "2025-09-04T06:51:49.130012",
     "status": "completed"
    },
    "tags": []
   },
   "outputs": [],
   "source": [
    "model.save(\"final_model.h5\")"
   ]
  }
 ],
 "metadata": {
  "kaggle": {
   "accelerator": "nvidiaTeslaT4",
   "dataSources": [
    {
     "datasetId": 679322,
     "sourceId": 1193409,
     "sourceType": "datasetVersion"
    }
   ],
   "dockerImageVersionId": 31090,
   "isGpuEnabled": true,
   "isInternetEnabled": true,
   "language": "python",
   "sourceType": "notebook"
  },
  "kernelspec": {
   "display_name": "Python 3",
   "language": "python",
   "name": "python3"
  },
  "language_info": {
   "codemirror_mode": {
    "name": "ipython",
    "version": 3
   },
   "file_extension": ".py",
   "mimetype": "text/x-python",
   "name": "python",
   "nbconvert_exporter": "python",
   "pygments_lexer": "ipython3",
   "version": "3.11.13"
  },
  "papermill": {
   "default_parameters": {},
   "duration": 13554.762753,
   "end_time": "2025-09-04T06:52:05.406124",
   "environment_variables": {},
   "exception": null,
   "input_path": "__notebook__.ipynb",
   "output_path": "__notebook__.ipynb",
   "parameters": {},
   "start_time": "2025-09-04T03:06:10.643371",
   "version": "2.6.0"
  }
 },
 "nbformat": 4,
 "nbformat_minor": 5
}
